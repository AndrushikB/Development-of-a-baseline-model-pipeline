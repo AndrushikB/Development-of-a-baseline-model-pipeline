{
 "cells": [
  {
   "cell_type": "markdown",
   "metadata": {},
   "source": [
    "Перед запуском убедитесь, что в корне проекта есть файл .env и в нем заполнены выданные вам креды подключения к базам данных и хранилищу"
   ]
  },
  {
   "cell_type": "code",
   "execution_count": 1,
   "metadata": {},
   "outputs": [],
   "source": [
    "%load_ext autoreload\n",
    "%autoreload 2"
   ]
  },
  {
   "cell_type": "code",
   "execution_count": 2,
   "metadata": {},
   "outputs": [],
   "source": [
    "import os\n",
    "import pandas as pd\n",
    "from dotenv import load_dotenv, find_dotenv\n",
    "from sqlalchemy import create_engine"
   ]
  },
  {
   "cell_type": "code",
   "execution_count": 3,
   "metadata": {},
   "outputs": [
    {
     "data": {
      "text/plain": [
       "True"
      ]
     },
     "execution_count": 3,
     "metadata": {},
     "output_type": "execute_result"
    }
   ],
   "source": [
    "# подгружаем .env\n",
    "load_dotenv()"
   ]
  },
  {
   "cell_type": "code",
   "execution_count": 4,
   "metadata": {},
   "outputs": [],
   "source": [
    "# Считываем все креды\n",
    "src_host = os.environ.get('DB_SOURCE_HOST')\n",
    "src_port = os.environ.get('DB_SOURCE_PORT')\n",
    "src_username = os.environ.get('DB_SOURCE_USER')\n",
    "src_password = os.environ.get('DB_SOURCE_PASSWORD')\n",
    "src_db = os.environ.get('DB_SOURCE_NAME') \n",
    "\n",
    "dst_host = os.environ.get('DB_DESTINATION_HOST')\n",
    "dst_port = os.environ.get('DB_DESTINATION_PORT')\n",
    "dst_username = os.environ.get('DB_DESTINATION_USER')\n",
    "dst_password = os.environ.get('DB_DESTINATION_PASSWORD')\n",
    "dst_db = os.environ.get('DB_DESTINATION_NAME')\n",
    "\n",
    "s3_bucket = os.environ.get('S3_BUCKET_NAME')\n",
    "s3_access_key = os.environ.get('AWS_ACCESS_KEY_ID')\n",
    "s3_secret_access_key = os.environ.get('AWS_SECRET_ACCESS_KEY')"
   ]
  },
  {
   "cell_type": "code",
   "execution_count": 5,
   "metadata": {},
   "outputs": [],
   "source": [
    "# Создадим соединения\n",
    "src_conn = create_engine(f'postgresql://{src_username}:{src_password}@{src_host}:{src_port}/{src_db}')\n",
    "dst_conn = create_engine(f'postgresql://{dst_username}:{dst_password}@{dst_host}:{dst_port}/{dst_db}')"
   ]
  },
  {
   "cell_type": "code",
   "execution_count": 6,
   "metadata": {},
   "outputs": [],
   "source": [
    "# Пример выгрузки данных из БД\n",
    "TABLE = 'flats_character'\n",
    "SQL = f'select * from {TABLE}'\n",
    "data = pd.read_sql(SQL, dst_conn)"
   ]
  },
  {
   "cell_type": "markdown",
   "metadata": {},
   "source": [
    "А дальше, творите!"
   ]
  },
  {
   "cell_type": "code",
   "execution_count": 13,
   "metadata": {},
   "outputs": [
    {
     "name": "stdout",
     "output_type": "stream",
     "text": [
      "           id  building_id  build_year  building_type_int   latitude  \\\n",
      "0       74094         1094        1950                  1  55.760925   \n",
      "1       99548        13126        1980                  4  55.874805   \n",
      "2       74098           88        1908                  1  55.753746   \n",
      "3          32        12523        1978                  6  55.747570   \n",
      "4       99553        20985        2008                  4  55.503925   \n",
      "...       ...          ...         ...                ...        ...   \n",
      "24615  141289        13923        1983                  4  55.798008   \n",
      "24616  141307        18289        2001                  4  55.884998   \n",
      "24617   11320        21544        2010                  2  55.715485   \n",
      "24618    7793        12708        1979                  4  55.809925   \n",
      "24619  141359         3162        1960                  1  55.727470   \n",
      "\n",
      "       longitude  ceiling_height  flats_count  floors_total  has_elevator  \\\n",
      "0      37.541233            3.00           45             5         False   \n",
      "1      37.611858            2.64          127            17          True   \n",
      "2      37.643013            3.20           32             4         False   \n",
      "3      37.702976            2.48          111            16          True   \n",
      "4      37.588432            2.90          192            14          True   \n",
      "...          ...             ...          ...           ...           ...   \n",
      "24615  37.801689            2.64          270            17          True   \n",
      "24616  37.535870            2.65          118            17          True   \n",
      "24617  37.479034            3.00          183            24          True   \n",
      "24618  37.412487            2.64          354             9          True   \n",
      "24619  37.768677            2.48           80             5         False   \n",
      "\n",
      "       floor  kitchen_area  living_area  rooms  is_apartment  studio  \\\n",
      "0          5          6.00    21.200001      1         False   False   \n",
      "1         16          8.60    31.200001      2         False   False   \n",
      "2          3          8.00    30.000000      2         False   False   \n",
      "3         16          8.00    45.599998      3          True   False   \n",
      "4          4          9.00    20.000000      1         False   False   \n",
      "...      ...           ...          ...    ...           ...     ...   \n",
      "24615     10         10.00    46.000000      3         False   False   \n",
      "24616      9         12.00    29.400000      2         False   False   \n",
      "24617     24          0.00   110.000000      5         False   False   \n",
      "24618      5          6.00    43.000000      3         False   False   \n",
      "24619      5          5.28    28.330000      2         False   False   \n",
      "\n",
      "       total_area     price    target  \n",
      "0       37.099998   9600000   9600000  \n",
      "1       53.000000   8855000   8855000  \n",
      "2       58.000000  32000000  32000000  \n",
      "3       63.599998  10200000  10200000  \n",
      "4       42.000000   5600000   5600000  \n",
      "...           ...       ...       ...  \n",
      "24615   75.000000  13990000  13990000  \n",
      "24616   56.000000  10800000  10800000  \n",
      "24617  184.000000  92000000  92000000  \n",
      "24618   58.599998  14300000  14300000  \n",
      "24619   41.110001   7400000   7400000  \n",
      "\n",
      "[24620 rows x 19 columns]\n"
     ]
    }
   ],
   "source": [
    "print(data)"
   ]
  },
  {
   "cell_type": "code",
   "execution_count": 13,
   "metadata": {},
   "outputs": [
    {
     "name": "stdout",
     "output_type": "stream",
     "text": [
      "int64      8\n",
      "float64    6\n",
      "bool       3\n",
      "Name: count, dtype: int64\n"
     ]
    }
   ],
   "source": [
    "features = data.drop(['building_id', 'target'], axis = 1)\n",
    "print(features.dtypes.value_counts())"
   ]
  },
  {
   "cell_type": "code",
   "execution_count": 10,
   "metadata": {},
   "outputs": [
    {
     "name": "stdout",
     "output_type": "stream",
     "text": [
      "0\n"
     ]
    }
   ],
   "source": [
    "is_duplicated_id = data.duplicated(subset=['building_id'], keep=False)\n",
    "print(sum(is_duplicated_id)) "
   ]
  },
  {
   "cell_type": "code",
   "execution_count": 12,
   "metadata": {},
   "outputs": [
    {
     "name": "stdout",
     "output_type": "stream",
     "text": [
      "0\n"
     ]
    }
   ],
   "source": [
    "feature_cols = data.drop('building_id', axis=1).columns.to_list()\n",
    "is_duplicated_features = data.duplicated(subset=feature_cols, keep=False)\n",
    "print(len(data[is_duplicated_features]))"
   ]
  },
  {
   "cell_type": "code",
   "execution_count": 10,
   "metadata": {},
   "outputs": [
    {
     "data": {
      "text/plain": [
       "id                      0\n",
       "building_id             0\n",
       "build_year              0\n",
       "building_type_int       0\n",
       "latitude                0\n",
       "longitude               0\n",
       "ceiling_height          0\n",
       "flats_count             0\n",
       "floors_total            0\n",
       "has_elevator            0\n",
       "floor                   0\n",
       "kitchen_area         1859\n",
       "living_area          2601\n",
       "rooms                   0\n",
       "is_apartment            0\n",
       "studio                  0\n",
       "total_area              0\n",
       "price                   0\n",
       "target                  0\n",
       "dtype: int64"
      ]
     },
     "execution_count": 10,
     "metadata": {},
     "output_type": "execute_result"
    }
   ],
   "source": [
    "data.isnull().sum()"
   ]
  },
  {
   "cell_type": "code",
   "execution_count": 9,
   "metadata": {},
   "outputs": [
    {
     "name": "stdout",
     "output_type": "stream",
     "text": [
      "          id  building_id  build_year  building_type_int   latitude  \\\n",
      "1      13354        16390        1995                  4  55.748089   \n",
      "3      10306        24051        2018                  2  55.585320   \n",
      "8      14465         1656        1956                  1  55.750717   \n",
      "9      21352        11522        1976                  0  55.986336   \n",
      "12     39655        23319        2016                  2  55.605869   \n",
      "...      ...          ...         ...                ...        ...   \n",
      "24604  21259        18760        2003                  2  55.722588   \n",
      "24611  21232         1157        1951                  1  55.774189   \n",
      "24613  21254        18020        2001                  2  55.808781   \n",
      "24617  21200        23561        2017                  2  55.540424   \n",
      "24619  21213        22617        2014                  2  55.569263   \n",
      "\n",
      "       longitude  ceiling_height  flats_count  floors_total  has_elevator  \\\n",
      "1      37.780094            2.80           88            12          True   \n",
      "3      37.601177            2.65          192            25          True   \n",
      "8      37.564915            3.00          426            22          True   \n",
      "9      37.188995            2.48          429            16          True   \n",
      "12     37.664753            2.70          384            15          True   \n",
      "...          ...             ...          ...           ...           ...   \n",
      "24604  37.452110            3.00          123            22          True   \n",
      "24611  37.615364            3.30           36             9          True   \n",
      "24613  37.564850            3.00          144            17          True   \n",
      "24617  37.483318            2.80          170            17          True   \n",
      "24619  37.441002            3.00           56             8          True   \n",
      "\n",
      "       floor  kitchen_area  living_area  rooms  is_apartment  studio  \\\n",
      "1          2      7.000000          NaN      1         False   False   \n",
      "3         20     20.799999         26.1      2         False   False   \n",
      "8          6           NaN          NaN      4         False   False   \n",
      "9          7     10.000000         19.6      1         False   False   \n",
      "12         3     12.000000          NaN      2         False   False   \n",
      "...      ...           ...          ...    ...           ...     ...   \n",
      "24604      7           NaN          NaN      2         False   False   \n",
      "24611      2           NaN          NaN      1         False   False   \n",
      "24613     13           NaN         74.0      4         False   False   \n",
      "24617     14     19.500000         22.0      2         False   False   \n",
      "24619      2           NaN          NaN      3         False   False   \n",
      "\n",
      "       total_area     price    target  \n",
      "1       38.000000   7500000   7500000  \n",
      "3       60.099998  10223010  10223010  \n",
      "8      130.000000  63000000  63000000  \n",
      "9       38.599998   8100000   8100000  \n",
      "12      48.000000  15200000  15200000  \n",
      "...           ...       ...       ...  \n",
      "24604   90.000000  49999000  49999000  \n",
      "24611   25.000000   5999999   5999999  \n",
      "24613  124.000000  33000000  33000000  \n",
      "24617   54.000000  12700000  12700000  \n",
      "24619  163.500000  33681000  33681000  \n",
      "\n",
      "[6986 rows x 19 columns]\n"
     ]
    }
   ],
   "source": [
    "num_cols = data.select_dtypes(['float', 'int']).drop(['id', 'building_id'], axis=1).columns\n",
    "threshold = 1.5\n",
    "potential_outliers = pd.DataFrame()\n",
    "\n",
    "for col in num_cols:\n",
    "\tQ1 = data[col].quantile(0.25)\n",
    "\tQ3 = data[col].quantile(0.75)\n",
    "\tIQR = Q3 - Q1\n",
    "\tmargin = threshold*IQR\n",
    "\tlower = Q1 - margin\n",
    "\tupper = Q3 + margin\n",
    "\tpotential_outliers[col] = ~data[col].between(lower, upper)\n",
    "\n",
    "outliers = potential_outliers.any(axis=1)\n",
    "\n",
    "print(data[outliers])"
   ]
  },
  {
   "cell_type": "code",
   "execution_count": 6,
   "metadata": {},
   "outputs": [],
   "source": [
    "# Закроем соединения в конце работы\n",
    "src_conn.dispose()\n",
    "dst_conn.dispose()"
   ]
  }
 ],
 "metadata": {
  "kernelspec": {
   "display_name": ".venv_mle_sprint1",
   "language": "python",
   "name": "python3"
  },
  "language_info": {
   "codemirror_mode": {
    "name": "ipython",
    "version": 3
   },
   "file_extension": ".py",
   "mimetype": "text/x-python",
   "name": "python",
   "nbconvert_exporter": "python",
   "pygments_lexer": "ipython3",
   "version": "3.10.12"
  }
 },
 "nbformat": 4,
 "nbformat_minor": 2
}
